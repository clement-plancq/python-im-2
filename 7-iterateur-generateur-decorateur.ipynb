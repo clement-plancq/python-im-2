{
 "cells": [
  {
   "cell_type": "markdown",
   "metadata": {},
   "source": [
    "# Itérateurs, générateurs, décorateurs\n",
    "### programmation fonctionnelle et Python\n",
    "\n",
    "Je ne vais pas vous faire un cours sur la programmation fonctionnelle. Je vous invite cependant à vous intéresser à ce paradigme de programmation ou à jetter un œil au vénérable [Lisp](https://fr.wikipedia.org/wiki/Lisp), à [Haskell](https://www.haskell.org/) ou [OCaml](https://ocaml.org/).\n",
    "\n",
    "En Python tout est objet, ça vous le savez. Vous savez aussi que Python est un langage multi-paradigme. Vous pouvez programmer dans un style procédural, en objet ou dans un style fonctionnel. Qu'est-ce que cela signifie un style fonctionnel ?  \n",
    "Vous ne pourrez pas produire de programmation fonctionnelle « pure » mais vous pouvez vous en approcher en privilégiant les fonctions sans effet de bord (pas de changement d'état, par exemple dans les structures de données), en évitant les variables globales, ou encore en utilisant des fonctions d'ordre supérieur (c-a-d des fonctions qui acceptent des fonctions comme arguments ou qui renvoient des fonctions).  \n",
    "Vous pouvez aussi apprendre à vous servir des itérateurs, des générateurs (ce qu'on fera ici) puis, si vous voulez, aller plus loin avec les modules [itertools](https://docs.python.org/3/library/itertools.html#module-itertools) et [functools](https://docs.python.org/3/library/functools.html#module-functools)"
   ]
  },
  {
   "cell_type": "markdown",
   "metadata": {},
   "source": [
    "# Les itérateurs\n",
    "\n",
    "Les itérateurs vous connaissez, vous en utilisez tous les jours avec les itérables que sont les chaînes, les listes ou les dictionnaires."
   ]
  },
  {
   "cell_type": "code",
   "execution_count": null,
   "metadata": {},
   "outputs": [],
   "source": [
    "numbers = [1, 2, 3, 4, 5]\n",
    "for it in numbers:\n",
    "    print(it)"
   ]
  },
  {
   "cell_type": "markdown",
   "metadata": {},
   "source": [
    "Mais alors on peut utiliser des itérateurs avec tous les objets ? Non.  \n",
    "Les itérateurs sont des objets qui représentent un flux de données. Pour être itérable un objet doit implémenter la fonction `__next()__`. Cette fonction peut aussi s'appeler avec `next()`, elle ne reçoit pas d'argument, renvoie le prochain élément, et si plus d'élément renvoie l'exception `StopIteration`.\n",
    "\n",
    "Pour savoir si un objet peut être un itérateur vous lui appliquez la fonction `iter()`, si elle ne renvoie pas d'exception c'est bon."
   ]
  },
  {
   "cell_type": "code",
   "execution_count": 19,
   "metadata": {},
   "outputs": [
    {
     "ename": "TypeError",
     "evalue": "'int' object is not iterable",
     "output_type": "error",
     "traceback": [
      "\u001b[0;31m---------------------------------------------------------------------------\u001b[0m",
      "\u001b[0;31mTypeError\u001b[0m                                 Traceback (most recent call last)",
      "\u001b[0;32m<ipython-input-19-df19f94671d1>\u001b[0m in \u001b[0;36m<module>\u001b[0;34m\u001b[0m\n\u001b[1;32m      1\u001b[0m \u001b[0mnb\u001b[0m \u001b[0;34m=\u001b[0m \u001b[0;36m42\u001b[0m\u001b[0;34m\u001b[0m\u001b[0;34m\u001b[0m\u001b[0m\n\u001b[0;32m----> 2\u001b[0;31m \u001b[0mnb_iter\u001b[0m \u001b[0;34m=\u001b[0m \u001b[0miter\u001b[0m\u001b[0;34m(\u001b[0m\u001b[0mnb\u001b[0m\u001b[0;34m)\u001b[0m \u001b[0;31m# c'est pas bon\u001b[0m\u001b[0;34m\u001b[0m\u001b[0;34m\u001b[0m\u001b[0m\n\u001b[0m",
      "\u001b[0;31mTypeError\u001b[0m: 'int' object is not iterable"
     ]
    }
   ],
   "source": [
    "nb = 42\n",
    "nb_iter = iter(nb) # c'est pas bon"
   ]
  },
  {
   "cell_type": "code",
   "execution_count": 30,
   "metadata": {},
   "outputs": [
    {
     "data": {
      "text/plain": [
       "1"
      ]
     },
     "execution_count": 30,
     "metadata": {},
     "output_type": "execute_result"
    }
   ],
   "source": [
    "numbers = [1, 2, 3, 4, 5]\n",
    "nb_iter = iter(numbers) # c'est bon\n",
    "# on peut utiliser __next__()\n",
    "nb_iter.__next__()"
   ]
  },
  {
   "cell_type": "code",
   "execution_count": 31,
   "metadata": {},
   "outputs": [
    {
     "data": {
      "text/plain": [
       "2"
      ]
     },
     "execution_count": 31,
     "metadata": {},
     "output_type": "execute_result"
    }
   ],
   "source": [
    "next(nb_iter) # autre façon"
   ]
  },
  {
   "cell_type": "markdown",
   "metadata": {},
   "source": [
    "Un itérateur est un flux, vous pouvez accéder aux éléments les uns après les autres mais pas revenir en arrière ou faire une copie. Si vous voulez accèder à nouveau au flux vous devez utiliser un nouvel itérateur. C'est le cas pour la lecture d'un fichier par exemple : vous ne pouvez pas lire à nouveau l'objet fichier si vous l'avez déjà fait."
   ]
  },
  {
   "cell_type": "markdown",
   "metadata": {},
   "source": [
    "# Les générateurs"
   ]
  },
  {
   "cell_type": "markdown",
   "metadata": {},
   "source": [
    "Les générateurs sont très simples à utiliser et très puissants. Ils vous permettront d'optimiser votre code à moindre frais. Alors pourquoi se priver ?"
   ]
  },
  {
   "cell_type": "markdown",
   "metadata": {},
   "source": [
    "Imaginons que je veuille extraire d'une liste de mots la liste des mots comportants le caractère 'a'. Je vais écrire une fonction."
   ]
  },
  {
   "cell_type": "code",
   "execution_count": 3,
   "metadata": {},
   "outputs": [],
   "source": [
    "def with_a(words):\n",
    "    \"\"\"\n",
    "    Reçoit une liste de mots et renvoie la liste des mots contenant le car. 'a'\n",
    "    \"\"\"\n",
    "    res = []\n",
    "    for word in words:\n",
    "        if 'a' in word:\n",
    "            res.append(word)\n",
    "    return res\n",
    "    "
   ]
  },
  {
   "cell_type": "code",
   "execution_count": 5,
   "metadata": {},
   "outputs": [
    {
     "name": "stdout",
     "output_type": "stream",
     "text": [
      "chat\n",
      "matin\n"
     ]
    }
   ],
   "source": [
    "mots = [\"le\", \"petit\", \"chat\", \"est\", \"mort\", \"ce\", \"matin\"]\n",
    "mots_a = with_a(mots)\n",
    "print(\"\\n\".join(mots_a))"
   ]
  },
  {
   "cell_type": "markdown",
   "metadata": {},
   "source": [
    "Jusque là rien de méchant. Comme il est question d'optimisation je vais mesurer le temps de traitement avec `timeit`.  \n",
    "ipython est plein de magie, `%time` hup hup hup barbatruc et voilà."
   ]
  },
  {
   "cell_type": "code",
   "execution_count": 6,
   "metadata": {},
   "outputs": [
    {
     "name": "stdout",
     "output_type": "stream",
     "text": [
      "CPU times: user 24 µs, sys: 0 ns, total: 24 µs\n",
      "Wall time: 37 µs\n",
      "CPU times: user 229 ms, sys: 150 µs, total: 230 ms\n",
      "Wall time: 229 ms\n"
     ]
    }
   ],
   "source": [
    "%time mots_a = with_a(mots)\n",
    "mots_big = mots * 1000000\n",
    "%time mots_a = with_a(mots_big)"
   ]
  },
  {
   "cell_type": "markdown",
   "metadata": {},
   "source": [
    "Comme on pouvait s'y attendre le temps d'exécution de la fonction augmente avec la taille de la liste initiale.  \n",
    "Voyons ce que ça donne avec un générateur. Construire un générateur c'est simple : vous remplacez `return` par `yield` dans votre fonction.  \n",
    "C'est tout ? C'est tout.  \n",
    "\n",
    "<small>Vous pouvez quand même en apprendre plus en lisant la [PEP 255](https://www.python.org/dev/peps/pep-0255/) si vous aimez ça.</small>"
   ]
  },
  {
   "cell_type": "code",
   "execution_count": 37,
   "metadata": {},
   "outputs": [],
   "source": [
    "def gen_with_a(words):\n",
    "    \"\"\"\n",
    "    Reçoit une liste de mots et renvoie les mots contenant le car. 'a' sous forme de générateur\n",
    "    \"\"\"\n",
    "    for word in words:\n",
    "        if 'a' in word:\n",
    "            yield(word)"
   ]
  },
  {
   "cell_type": "code",
   "execution_count": 8,
   "metadata": {},
   "outputs": [
    {
     "name": "stdout",
     "output_type": "stream",
     "text": [
      "CPU times: user 3.9 ms, sys: 0 ns, total: 3.9 ms\n",
      "Wall time: 3.91 ms\n",
      "CPU times: user 11 µs, sys: 0 ns, total: 11 µs\n",
      "Wall time: 17.9 µs\n"
     ]
    }
   ],
   "source": [
    "mots_big = mots * 100\n",
    "%time mots_a = with_a(mots_big)\n",
    "%time mots_a_gen = gen_with_a(mots_big)"
   ]
  },
  {
   "cell_type": "markdown",
   "metadata": {},
   "source": [
    "😲 !!!!!!!!!  \n",
    "Oui c'est de la magie. Enfin c'est plutôt de la triche, regardez :"
   ]
  },
  {
   "cell_type": "code",
   "execution_count": 9,
   "metadata": {},
   "outputs": [
    {
     "name": "stdout",
     "output_type": "stream",
     "text": [
      "mots_a is a <class 'list'>\n",
      "mots_a_gen is a <class 'generator'>\n",
      "Taille de mots_a : 1680\n",
      "Taille de mots_a_gen : 128\n"
     ]
    }
   ],
   "source": [
    "print(f\"mots_a is a {type(mots_a)}\")\n",
    "print(f\"mots_a_gen is a {type(mots_a_gen)}\")\n",
    "import sys\n",
    "print(f\"Taille de mots_a : {sys.getsizeof(mots_a)}\")\n",
    "print(f\"Taille de mots_a_gen : {sys.getsizeof(mots_a_gen)}\")"
   ]
  },
  {
   "cell_type": "markdown",
   "metadata": {},
   "source": [
    "`mots_a_gen` n'est pas une liste, c'est un objet `generator`.  \n",
    "Il ne stocke rien ou presque en mémoire, on ne peut pas connaître sa taille (essayez `len(mots_a_gen)` pour voir.  \n",
    "Mais c'est un itérable, on peut le parcourir comme une liste. Par contre on ne peut pas les \"trancher\", on ne peut accéder à un élément d'index `i` comme pour une liste.  \n",
    "Encore une différence d'avec les listes : vous ne pouvez parcourir un générateur qu'une seule fois.\n",
    "\n",
    "Mais ça ça rappelle les itérateurs. Oui. Les générateurs permettent de créer des itérateurs sans se fatiguer. Une fonction classique reçoit des paramètres, calcule un truc avec et renvoie le résultat. Un générateur renvoie un itérateur qui donne accès à un flux de données.  \n",
    "Comme tout itérateur vous pouvez le convertir en liste ou en tuple si vous voulez."
   ]
  },
  {
   "cell_type": "code",
   "execution_count": 10,
   "metadata": {},
   "outputs": [
    {
     "name": "stdout",
     "output_type": "stream",
     "text": [
      "CPU times: user 166 µs, sys: 25 µs, total: 191 µs\n",
      "Wall time: 204 µs\n"
     ]
    }
   ],
   "source": [
    "%time mots_a_gen = list(gen_with_a(mots_big))"
   ]
  },
  {
   "cell_type": "markdown",
   "metadata": {
    "collapsed": true
   },
   "source": [
    "Mais même sans tricher les générateurs demeurent très efficaces. Vous aurez compris qu'il vous est désormais chaudement recommandé de les utiliser. "
   ]
  },
  {
   "cell_type": "markdown",
   "metadata": {},
   "source": [
    "Si vous voulez en savoir plus sur la cuisine du truc vous pouvez utiliser le module `inspect`. Je vous conseille d'en lire la doc d'ailleurs : [https://docs.python.org/3/library/inspect.html](https://docs.python.org/3/library/inspect.html)"
   ]
  },
  {
   "cell_type": "code",
   "execution_count": 50,
   "metadata": {},
   "outputs": [
    {
     "name": "stdout",
     "output_type": "stream",
     "text": [
      "<generator object gen_with_a at 0x7f2b9997a050>\n",
      "GEN_CREATED\n",
      "chat\n",
      "GEN_SUSPENDED\n",
      "matin\n",
      "GEN_SUSPENDED\n"
     ]
    },
    {
     "ename": "StopIteration",
     "evalue": "",
     "output_type": "error",
     "traceback": [
      "\u001b[0;31m---------------------------------------------------------------------------\u001b[0m",
      "\u001b[0;31mStopIteration\u001b[0m                             Traceback (most recent call last)",
      "\u001b[0;32m<ipython-input-50-0ff8a868b292>\u001b[0m in \u001b[0;36m<module>\u001b[0;34m\u001b[0m\n\u001b[1;32m      8\u001b[0m \u001b[0mprint\u001b[0m\u001b[0;34m(\u001b[0m\u001b[0mnext\u001b[0m\u001b[0;34m(\u001b[0m\u001b[0mmots_a_gen\u001b[0m\u001b[0;34m)\u001b[0m\u001b[0;34m)\u001b[0m\u001b[0;34m\u001b[0m\u001b[0;34m\u001b[0m\u001b[0m\n\u001b[1;32m      9\u001b[0m \u001b[0mprint\u001b[0m\u001b[0;34m(\u001b[0m\u001b[0minspect\u001b[0m\u001b[0;34m.\u001b[0m\u001b[0mgetgeneratorstate\u001b[0m\u001b[0;34m(\u001b[0m\u001b[0mmots_a_gen\u001b[0m\u001b[0;34m)\u001b[0m\u001b[0;34m)\u001b[0m\u001b[0;34m\u001b[0m\u001b[0;34m\u001b[0m\u001b[0m\n\u001b[0;32m---> 10\u001b[0;31m \u001b[0mprint\u001b[0m\u001b[0;34m(\u001b[0m\u001b[0mnext\u001b[0m\u001b[0;34m(\u001b[0m\u001b[0mmots_a_gen\u001b[0m\u001b[0;34m)\u001b[0m\u001b[0;34m)\u001b[0m\u001b[0;34m\u001b[0m\u001b[0;34m\u001b[0m\u001b[0m\n\u001b[0m",
      "\u001b[0;31mStopIteration\u001b[0m: "
     ]
    }
   ],
   "source": [
    "import inspect\n",
    "\n",
    "mots_a_gen = gen_with_a(mots)\n",
    "print(mots_a_gen)\n",
    "print(inspect.getgeneratorstate(mots_a_gen))\n",
    "print(next(mots_a_gen))\n",
    "print(inspect.getgeneratorstate(mots_a_gen))\n",
    "print(next(mots_a_gen))\n",
    "print(inspect.getgeneratorstate(mots_a_gen))\n",
    "print(next(mots_a_gen))"
   ]
  },
  {
   "cell_type": "code",
   "execution_count": 51,
   "metadata": {},
   "outputs": [
    {
     "data": {
      "text/plain": [
       "'GEN_CLOSED'"
      ]
     },
     "execution_count": 51,
     "metadata": {},
     "output_type": "execute_result"
    }
   ],
   "source": [
    "inspect.getgeneratorstate(mots_a_gen)"
   ]
  },
  {
   "cell_type": "markdown",
   "metadata": {},
   "source": [
    "Vous pouvez aussi utiliser des générateurs en compréhension, à la manière des listes en compréhension : "
   ]
  },
  {
   "cell_type": "code",
   "execution_count": 11,
   "metadata": {},
   "outputs": [
    {
     "data": {
      "text/plain": [
       "['chat', 'matin']"
      ]
     },
     "execution_count": 11,
     "metadata": {},
     "output_type": "execute_result"
    }
   ],
   "source": [
    "[mot for mot in mots if 'a' in mot]"
   ]
  },
  {
   "cell_type": "code",
   "execution_count": 12,
   "metadata": {},
   "outputs": [
    {
     "data": {
      "text/plain": [
       "<generator object <genexpr> at 0x7f2ba85ebd50>"
      ]
     },
     "execution_count": 12,
     "metadata": {},
     "output_type": "execute_result"
    }
   ],
   "source": [
    "(mot for mot in mots if 'a' in mot)"
   ]
  },
  {
   "cell_type": "markdown",
   "metadata": {},
   "source": [
    "# Encore un peu de fonctionnel : fonctions lambda, `map` et `filter`"
   ]
  },
  {
   "cell_type": "markdown",
   "metadata": {},
   "source": [
    "`map`et `filter` sont typiquement des fonctions qui viennent des langages fonctionnels. Elles renvoien toutes les deux des itérateurs.\n",
    "\n",
    "  - `map` permet d'appliquer un traitement sur chaque élément d'un itérable\n",
    "  - `filter` filtre les éléments d'un itérable en fonction d'une condition\n",
    "\n",
    "Oui on peut faire tout ça avec les listes en compréhension. C'est même plus pythonique, vous allez donc continuer à utiliser les listes en compréhension plutôt que `map` et `filter`."
   ]
  },
  {
   "cell_type": "code",
   "execution_count": 67,
   "metadata": {},
   "outputs": [
    {
     "name": "stdout",
     "output_type": "stream",
     "text": [
      "1\n",
      "4\n",
      "9\n",
      "16\n",
      "25\n"
     ]
    },
    {
     "data": {
      "text/plain": [
       "[1, 4, 9, 16, 25]"
      ]
     },
     "execution_count": 67,
     "metadata": {},
     "output_type": "execute_result"
    }
   ],
   "source": [
    "def carre(x):\n",
    "    return x**2\n",
    "\n",
    "numbers = [1, 2, 3, 4, 5]\n",
    "for it in map(carre, numbers):\n",
    "    print(it)\n",
    "# ou aussi\n",
    "list(map(carre, numbers))"
   ]
  },
  {
   "cell_type": "code",
   "execution_count": 69,
   "metadata": {},
   "outputs": [
    {
     "data": {
      "text/plain": [
       "[1, 4, 9, 16, 25]"
      ]
     },
     "execution_count": 69,
     "metadata": {},
     "output_type": "execute_result"
    }
   ],
   "source": [
    "[it**2 for it in numbers] # so pythonic"
   ]
  },
  {
   "cell_type": "code",
   "execution_count": 74,
   "metadata": {},
   "outputs": [
    {
     "name": "stdout",
     "output_type": "stream",
     "text": [
      "2\n",
      "4\n"
     ]
    },
    {
     "data": {
      "text/plain": [
       "[2, 4]"
      ]
     },
     "execution_count": 74,
     "metadata": {},
     "output_type": "execute_result"
    }
   ],
   "source": [
    "def is_even(x):\n",
    "    return not(x%2)\n",
    "\n",
    "for it in filter(is_even, numbers):\n",
    "    print(it)\n",
    "# ou aussi\n",
    "list(filter(is_even, numbers))"
   ]
  },
  {
   "cell_type": "code",
   "execution_count": 75,
   "metadata": {},
   "outputs": [
    {
     "data": {
      "text/plain": [
       "[False, True, False, True, False]"
      ]
     },
     "execution_count": 75,
     "metadata": {},
     "output_type": "execute_result"
    }
   ],
   "source": [
    "[not(it % 2) for it in numbers]"
   ]
  },
  {
   "cell_type": "markdown",
   "metadata": {},
   "source": [
    "C'est un peu fastidieux d'écrire ces petites fonctions pour utiliser `map` et `filter`. Avec les fonctions lambda, Python offre un moyen d'écrire des petites fonctions, de leur passer des paramètres et d'en faire des fonctions anonymes. Oui des fonctions anonymes, elles n'ont pas de nom quoi. Encore un truc qui vient de la programmation fonctionnelle, on en utilise plein en Javascript par exemple."
   ]
  },
  {
   "cell_type": "code",
   "execution_count": 90,
   "metadata": {},
   "outputs": [
    {
     "name": "stdout",
     "output_type": "stream",
     "text": [
      "1\n",
      "4\n",
      "9\n",
      "16\n",
      "25\n"
     ]
    }
   ],
   "source": [
    "for it in map(lambda x: x**2, numbers):\n",
    "    print(it)"
   ]
  },
  {
   "cell_type": "markdown",
   "metadata": {},
   "source": [
    "Ici on a bien une fonction qui est paramètre d'une autre fonction (`map`). On utilise souvent des fonctions lambda avec `sorted`, typiquement pour trier un dictionnaire par valeur comme vous le savez."
   ]
  },
  {
   "cell_type": "code",
   "execution_count": 94,
   "metadata": {},
   "outputs": [
    {
     "name": "stdout",
     "output_type": "stream",
     "text": [
      "d 1\n",
      "b 2\n",
      "a 5\n",
      "c 7\n",
      "e 12\n"
     ]
    }
   ],
   "source": [
    "letters = {'a': 5, 'b': 2, 'c': 7, 'd':1, 'e':12}\n",
    "for it, val in sorted(letters.items(), key=lambda item: item[1]):\n",
    "    print(it, val)"
   ]
  },
  {
   "cell_type": "markdown",
   "metadata": {},
   "source": [
    "# Les décorateurs"
   ]
  },
  {
   "cell_type": "markdown",
   "metadata": {},
   "source": [
    "Les décorateurs ont été introduit avec la [PEP 318](https://www.python.org/dev/peps/pep-0318/) en 2003 dans la version 2.4 de Python.\n",
    "\n",
    "Une fonction est un objet. Vous savez : en Python tout est objet. On peut passer une fonction en paramètre d'une fonction. Une fonction peut renvoyer une fonction en valeur de retour."
   ]
  },
  {
   "cell_type": "code",
   "execution_count": 99,
   "metadata": {},
   "outputs": [
    {
     "name": "stdout",
     "output_type": "stream",
     "text": [
      "salut\n"
     ]
    }
   ],
   "source": [
    "def salut():\n",
    "    print(\"salut\")\n",
    "\n",
    "bonjour = salut # passage de la référence de l'objet (remember le cours sur les classes et les objets)\n",
    "bonjour()"
   ]
  },
  {
   "cell_type": "markdown",
   "metadata": {},
   "source": [
    "Avec un décorateur on va emballer une fonction pour ajouter des fonctionnalités. Un décorateur reçoit en paramètre une fonction et l'emballe dans une autre."
   ]
  },
  {
   "cell_type": "code",
   "execution_count": 103,
   "metadata": {},
   "outputs": [
    {
     "name": "stdout",
     "output_type": "stream",
     "text": [
      "salut jean-michel\n"
     ]
    }
   ],
   "source": [
    "def deco(func):\n",
    "    def wrapper():\n",
    "        print(\"salut\", end=\" \")\n",
    "        func()\n",
    "    return wrapper\n",
    "\n",
    "def name():\n",
    "    print(\"jean-michel\")\n",
    "\n",
    "obj = deco(name)\n",
    "obj()"
   ]
  },
  {
   "cell_type": "markdown",
   "metadata": {},
   "source": [
    "La PEP 318 a introduit le symbole '@'. Ça permet d'avoir une syntaxe plus simple, du code plus propre."
   ]
  },
  {
   "cell_type": "code",
   "execution_count": 108,
   "metadata": {},
   "outputs": [
    {
     "name": "stdout",
     "output_type": "stream",
     "text": [
      "salut jean-michel\n"
     ]
    }
   ],
   "source": [
    "@deco\n",
    "def name():\n",
    "    print(\"jean-michel\")\n",
    "    \n",
    "obj = name\n",
    "obj()"
   ]
  },
  {
   "cell_type": "markdown",
   "metadata": {},
   "source": [
    "Ce décorateur ne sert à rien, on est d'accord. Voici un exemple plus parlant avec un décorateur pour mesurer le temps d'exécution d'une fonction :"
   ]
  },
  {
   "cell_type": "code",
   "execution_count": 109,
   "metadata": {},
   "outputs": [],
   "source": [
    "import time\n",
    "\n",
    "def timer(func):\n",
    "    def wrapper(*args, **kwargs):\n",
    "        start = time.perf_counter()\n",
    "        value = func(*args, **kwargs)\n",
    "        end = time.perf_counter()\n",
    "        run_time = end - start\n",
    "        print(f\"Finished {func.__name__} in {run_time} secs\"\n",
    "        return value\n",
    "\n",
    "    return wrapper"
   ]
  },
  {
   "cell_type": "code",
   "execution_count": 113,
   "metadata": {},
   "outputs": [
    {
     "name": "stdout",
     "output_type": "stream",
     "text": [
      "Result : 9999900000\n",
      "Finished 'doubled_and_add' in 0.015 secs\n"
     ]
    }
   ],
   "source": [
    "@timer\n",
    "def doubled_and_add(num):\n",
    "    res = sum([i*2 for i in range(num)])\n",
    "    print(f\"Result : {res}\")\n",
    "\n",
    "doubled_and_add(100000)"
   ]
  },
  {
   "cell_type": "code",
   "execution_count": 111,
   "metadata": {},
   "outputs": [
    {
     "name": "stdout",
     "output_type": "stream",
     "text": [
      "Result : 999999000000\n",
      "Finished 'doubled_and_add' in 0.101 secs\n"
     ]
    }
   ],
   "source": [
    "doubled_and_add(1000000)"
   ]
  },
  {
   "cell_type": "markdown",
   "metadata": {},
   "source": [
    "Je ne suis pas persuadé que vous ayiez à écrire des décorateurs dans un avenir proche. Par contre vous serez certainement amenées à en utiliser. Si vous faîtes du web en Python, que ce soit avec [Django](https://www.djangoproject.com/) ou [Flask](https://flask.palletsprojects.com/en/1.1.x/), c'est certain.\n",
    "\n",
    "Et tout de suite là maintenant vous allez en utiliser pour coder votre bot Discord 🎉🤖🥳. Nous allons utiliser le module [discord.py](https://discordpy.readthedocs.io/en/latest/index.html) et nous inspirer du tutoriel [https://realpython.com/how-to-make-a-discord-bot-python/](https://realpython.com/how-to-make-a-discord-bot-python/)"
   ]
  }
 ],
 "metadata": {
  "kernelspec": {
   "display_name": "Python 3",
   "language": "python",
   "name": "python3"
  },
  "language_info": {
   "codemirror_mode": {
    "name": "ipython",
    "version": 3
   },
   "file_extension": ".py",
   "mimetype": "text/x-python",
   "name": "python",
   "nbconvert_exporter": "python",
   "pygments_lexer": "ipython3",
   "version": "3.7.4"
  }
 },
 "nbformat": 4,
 "nbformat_minor": 1
}
