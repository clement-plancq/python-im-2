{
 "cells": [
  {
   "cell_type": "markdown",
   "metadata": {
    "slideshow": {
     "slide_type": "slide"
    }
   },
   "source": [
    "# Classification avec `scikit-learn`\n",
    "\n",
    "[scikit-learn](https://scikit-learn.org/stable/index.html) est une bibliothèque Python dédiée à l'apprentissage automatique (*machine learning*). Ce package est développé sur licence libre. Il y a une forte proportion de français parmi les développeurs, le projet est soutenu par l'INRIA notamment.  \n",
    "[scikit-learn](https://scikit-learn.org/stable/index.html) repose sur `NumPy` et `SciPy`. Il est écrit en Python et Cython. Il s'interface très bien avec `matplotlib`, `plotly` ou `pandas`. C'est devenu un incontournable du *machine learning* et de la *datascience* en Python.\n",
    "\n",
    "Dans ce notebook nous nous limiterons à la classification, une partie seulement du package [scikit-learn](https://scikit-learn.org/stable/index.html).  \n",
    "La classification est souvent utilisée en TAL, par exemple dans les tâches d'analyse de sentiment, de détection d'émotion ou l'identification de la langue. L'idée est d'apprendre un modèle à partir de données étiquetées et de prédire la bonne étiquette pour une donnée inconnue du modèle.\n",
    "\n",
    "On a un échantillon d'entraînement composé de $n$ couples $Z_{i}=(X_{i}, Y_{i}), i=1...n$ où les $X_{i}$ sont les inputs avec plusieurs traits et les $Y_{i}$ seront les outputs, les catégories à prédire.  \n",
    "L'objectif du problème d'apprentissage est de trouver une fonction $g:X→Y$ de prédiction, qui minimise les erreurs de prédiction."
   ]
  },
  {
   "cell_type": "markdown",
   "metadata": {},
   "source": [
    "`scikitlearn` offre beaucoup d'algorithmes d'apprentissage. Vous en trouverez un aperçu sur [https://scikit-learn.org/stable/tutorial/machine_learning_map/index.html](cette carte) et sur ces listes : [supervisé](https://scikit-learn.org/stable/supervised_learning.html) / [non supervisé](https://scikit-learn.org/stable/unsupervised_learning.html).\n",
    "\n",
    "Mais `scikitlearn` offre également les outils pour mener à bien les étapes d'une tâche de *machine learning* :\n",
    "  - Manipuler les donneés, constituter un jeu de données d'entraînement et de test\n",
    "  - Entraînement du modèle\n",
    "  - Évaluation\n",
    "  - Optimisation des hyperparamètres"
   ]
  },
  {
   "cell_type": "markdown",
   "metadata": {},
   "source": [
    "## Un premier exemple\n",
    "\n",
    "### Les données\n",
    "\n",
    "C'est la clé de voute du *machine learning*, vous le savez n'est-ce pas ? Nous allons travailler avec un des jeux de données fourni par scikitlearn : https://scikit-learn.org/stable/datasets/index.html#wine-recognition-dataset  \n",
    "C'est un peu facile parce que les données sont déjà nettoyées et organisées."
   ]
  },
  {
   "cell_type": "code",
   "execution_count": 38,
   "metadata": {},
   "outputs": [
    {
     "data": {
      "text/plain": [
       "sklearn.utils.Bunch"
      ]
     },
     "execution_count": 38,
     "metadata": {},
     "output_type": "execute_result"
    }
   ],
   "source": [
    "from sklearn import datasets\n",
    "wine = datasets.load_wine()\n",
    "type(wine)"
   ]
  },
  {
   "cell_type": "markdown",
   "metadata": {},
   "source": [
    "Ces jeux de données sont des objets `sklearn.utils.Bunch`. Organisés un peu comme des dictionnaires Python, ces objets contiennent :\n",
    " - `data` : array numpy à deux dimensions d'échantillons de données (n_samples * n_features), les inputs, les X\n",
    " - `target` : les variables à prédire, les catégories des échantillons si vous voulez, les outputs, les y\n",
    " - `feature_names` \n",
    " - `target_names`"
   ]
  },
  {
   "cell_type": "code",
   "execution_count": 82,
   "metadata": {},
   "outputs": [
    {
     "name": "stdout",
     "output_type": "stream",
     "text": [
      ".. _wine_dataset:\n",
      "\n",
      "Wine recognition dataset\n",
      "------------------------\n",
      "\n",
      "**Data Set Characteristics:**\n",
      "\n",
      "    :Number of Instances: 178 (50 in each of three classes)\n",
      "    :Number of Attributes: 13 numeric, predictive attributes and the class\n",
      "    :Attribute Information:\n",
      " \t\t- Alcohol\n",
      " \t\t- Malic acid\n",
      " \t\t- Ash\n",
      "\t\t- Alcalinity of ash  \n",
      " \t\t- Magnesium\n",
      "\t\t- Total phenols\n",
      " \t\t- Flavanoids\n",
      " \t\t- Nonflavanoid phenols\n",
      " \t\t- Proanthocyanins\n",
      "\t\t- Color intensity\n",
      " \t\t- Hue\n",
      " \t\t- OD280/OD315 of diluted wines\n",
      " \t\t- Proline\n",
      "\n",
      "    - class:\n",
      "            - class_0\n",
      "            - class_1\n",
      "            - class_2\n",
      "\t\t\n",
      "    :Summary Statistics:\n",
      "    \n",
      "    ============================= ==== ===== ======= =====\n",
      "                                   Min   Max   Mean     SD\n",
      "    ============================= ==== ===== ======= =====\n",
      "    Alcohol:                      11.0  14.8    13.0   0.8\n",
      "    Malic Acid:                   0.74  5.80    2.34  1.12\n",
      "    Ash:                          1.36  3.23    2.36  0.27\n",
      "    Alcalinity of Ash:            10.6  30.0    19.5   3.3\n",
      "    Magnesium:                    70.0 162.0    99.7  14.3\n",
      "    Total Phenols:                0.98  3.88    2.29  0.63\n",
      "    Flavanoids:                   0.34  5.08    2.03  1.00\n",
      "    Nonflavanoid Phenols:         0.13  0.66    0.36  0.12\n",
      "    Proanthocyanins:              0.41  3.58    1.59  0.57\n",
      "    Colour Intensity:              1.3  13.0     5.1   2.3\n",
      "    Hue:                          0.48  1.71    0.96  0.23\n",
      "    OD280/OD315 of diluted wines: 1.27  4.00    2.61  0.71\n",
      "    Proline:                       278  1680     746   315\n",
      "    ============================= ==== ===== ======= =====\n",
      "\n",
      "    :Missing Attribute Values: None\n",
      "    :Class Distribution: class_0 (59), class_1 (71), class_2 (48)\n",
      "    :Creator: R.A. Fisher\n",
      "    :Donor: Michael Marshall (MARSHALL%PLU@io.arc.nasa.gov)\n",
      "    :Date: July, 1988\n",
      "\n",
      "This is a copy of UCI ML Wine recognition datasets.\n",
      "https://archive.ics.uci.edu/ml/machine-learning-databases/wine/wine.data\n",
      "\n",
      "The data is the results of a chemical analysis of wines grown in the same\n",
      "region in Italy by three different cultivators. There are thirteen different\n",
      "measurements taken for different constituents found in the three types of\n",
      "wine.\n",
      "\n",
      "Original Owners: \n",
      "\n",
      "Forina, M. et al, PARVUS - \n",
      "An Extendible Package for Data Exploration, Classification and Correlation. \n",
      "Institute of Pharmaceutical and Food Analysis and Technologies,\n",
      "Via Brigata Salerno, 16147 Genoa, Italy.\n",
      "\n",
      "Citation:\n",
      "\n",
      "Lichman, M. (2013). UCI Machine Learning Repository\n",
      "[https://archive.ics.uci.edu/ml]. Irvine, CA: University of California,\n",
      "School of Information and Computer Science. \n",
      "\n",
      ".. topic:: References\n",
      "\n",
      "  (1) S. Aeberhard, D. Coomans and O. de Vel, \n",
      "  Comparison of Classifiers in High Dimensional Settings, \n",
      "  Tech. Rep. no. 92-02, (1992), Dept. of Computer Science and Dept. of  \n",
      "  Mathematics and Statistics, James Cook University of North Queensland. \n",
      "  (Also submitted to Technometrics). \n",
      "\n",
      "  The data was used with many others for comparing various \n",
      "  classifiers. The classes are separable, though only RDA \n",
      "  has achieved 100% correct classification. \n",
      "  (RDA : 100%, QDA 99.4%, LDA 98.9%, 1NN 96.1% (z-transformed data)) \n",
      "  (All results using the leave-one-out technique) \n",
      "\n",
      "  (2) S. Aeberhard, D. Coomans and O. de Vel, \n",
      "  \"THE CLASSIFICATION PERFORMANCE OF RDA\" \n",
      "  Tech. Rep. no. 92-01, (1992), Dept. of Computer Science and Dept. of \n",
      "  Mathematics and Statistics, James Cook University of North Queensland. \n",
      "  (Also submitted to Journal of Chemometrics).\n",
      "\n"
     ]
    }
   ],
   "source": [
    "print(wine.DESCR)"
   ]
  },
  {
   "cell_type": "code",
   "execution_count": 39,
   "metadata": {},
   "outputs": [
    {
     "data": {
      "text/plain": [
       "['alcohol',\n",
       " 'malic_acid',\n",
       " 'ash',\n",
       " 'alcalinity_of_ash',\n",
       " 'magnesium',\n",
       " 'total_phenols',\n",
       " 'flavanoids',\n",
       " 'nonflavanoid_phenols',\n",
       " 'proanthocyanins',\n",
       " 'color_intensity',\n",
       " 'hue',\n",
       " 'od280/od315_of_diluted_wines',\n",
       " 'proline']"
      ]
     },
     "execution_count": 39,
     "metadata": {},
     "output_type": "execute_result"
    }
   ],
   "source": [
    "wine.feature_names"
   ]
  },
  {
   "cell_type": "markdown",
   "metadata": {},
   "source": [
    "On peut convertir ces données en Dataframe pandas si on veut."
   ]
  },
  {
   "cell_type": "code",
   "execution_count": 95,
   "metadata": {},
   "outputs": [
    {
     "data": {
      "text/html": [
       "<div>\n",
       "<style scoped>\n",
       "    .dataframe tbody tr th:only-of-type {\n",
       "        vertical-align: middle;\n",
       "    }\n",
       "\n",
       "    .dataframe tbody tr th {\n",
       "        vertical-align: top;\n",
       "    }\n",
       "\n",
       "    .dataframe thead th {\n",
       "        text-align: right;\n",
       "    }\n",
       "</style>\n",
       "<table border=\"1\" class=\"dataframe\">\n",
       "  <thead>\n",
       "    <tr style=\"text-align: right;\">\n",
       "      <th></th>\n",
       "      <th>alcohol</th>\n",
       "      <th>malic_acid</th>\n",
       "      <th>ash</th>\n",
       "      <th>alcalinity_of_ash</th>\n",
       "      <th>magnesium</th>\n",
       "      <th>total_phenols</th>\n",
       "      <th>flavanoids</th>\n",
       "      <th>nonflavanoid_phenols</th>\n",
       "      <th>proanthocyanins</th>\n",
       "      <th>color_intensity</th>\n",
       "      <th>hue</th>\n",
       "      <th>od280/od315_of_diluted_wines</th>\n",
       "      <th>proline</th>\n",
       "      <th>target</th>\n",
       "    </tr>\n",
       "  </thead>\n",
       "  <tbody>\n",
       "    <tr>\n",
       "      <th>0</th>\n",
       "      <td>14.23</td>\n",
       "      <td>1.71</td>\n",
       "      <td>2.43</td>\n",
       "      <td>15.6</td>\n",
       "      <td>127.0</td>\n",
       "      <td>2.80</td>\n",
       "      <td>3.06</td>\n",
       "      <td>0.28</td>\n",
       "      <td>2.29</td>\n",
       "      <td>5.64</td>\n",
       "      <td>1.04</td>\n",
       "      <td>3.92</td>\n",
       "      <td>1065.0</td>\n",
       "      <td>0</td>\n",
       "    </tr>\n",
       "    <tr>\n",
       "      <th>1</th>\n",
       "      <td>13.20</td>\n",
       "      <td>1.78</td>\n",
       "      <td>2.14</td>\n",
       "      <td>11.2</td>\n",
       "      <td>100.0</td>\n",
       "      <td>2.65</td>\n",
       "      <td>2.76</td>\n",
       "      <td>0.26</td>\n",
       "      <td>1.28</td>\n",
       "      <td>4.38</td>\n",
       "      <td>1.05</td>\n",
       "      <td>3.40</td>\n",
       "      <td>1050.0</td>\n",
       "      <td>0</td>\n",
       "    </tr>\n",
       "    <tr>\n",
       "      <th>2</th>\n",
       "      <td>13.16</td>\n",
       "      <td>2.36</td>\n",
       "      <td>2.67</td>\n",
       "      <td>18.6</td>\n",
       "      <td>101.0</td>\n",
       "      <td>2.80</td>\n",
       "      <td>3.24</td>\n",
       "      <td>0.30</td>\n",
       "      <td>2.81</td>\n",
       "      <td>5.68</td>\n",
       "      <td>1.03</td>\n",
       "      <td>3.17</td>\n",
       "      <td>1185.0</td>\n",
       "      <td>0</td>\n",
       "    </tr>\n",
       "    <tr>\n",
       "      <th>3</th>\n",
       "      <td>14.37</td>\n",
       "      <td>1.95</td>\n",
       "      <td>2.50</td>\n",
       "      <td>16.8</td>\n",
       "      <td>113.0</td>\n",
       "      <td>3.85</td>\n",
       "      <td>3.49</td>\n",
       "      <td>0.24</td>\n",
       "      <td>2.18</td>\n",
       "      <td>7.80</td>\n",
       "      <td>0.86</td>\n",
       "      <td>3.45</td>\n",
       "      <td>1480.0</td>\n",
       "      <td>0</td>\n",
       "    </tr>\n",
       "    <tr>\n",
       "      <th>4</th>\n",
       "      <td>13.24</td>\n",
       "      <td>2.59</td>\n",
       "      <td>2.87</td>\n",
       "      <td>21.0</td>\n",
       "      <td>118.0</td>\n",
       "      <td>2.80</td>\n",
       "      <td>2.69</td>\n",
       "      <td>0.39</td>\n",
       "      <td>1.82</td>\n",
       "      <td>4.32</td>\n",
       "      <td>1.04</td>\n",
       "      <td>2.93</td>\n",
       "      <td>735.0</td>\n",
       "      <td>0</td>\n",
       "    </tr>\n",
       "  </tbody>\n",
       "</table>\n",
       "</div>"
      ],
      "text/plain": [
       "   alcohol  malic_acid   ash  alcalinity_of_ash  magnesium  total_phenols  \\\n",
       "0    14.23        1.71  2.43               15.6      127.0           2.80   \n",
       "1    13.20        1.78  2.14               11.2      100.0           2.65   \n",
       "2    13.16        2.36  2.67               18.6      101.0           2.80   \n",
       "3    14.37        1.95  2.50               16.8      113.0           3.85   \n",
       "4    13.24        2.59  2.87               21.0      118.0           2.80   \n",
       "\n",
       "   flavanoids  nonflavanoid_phenols  proanthocyanins  color_intensity   hue  \\\n",
       "0        3.06                  0.28             2.29             5.64  1.04   \n",
       "1        2.76                  0.26             1.28             4.38  1.05   \n",
       "2        3.24                  0.30             2.81             5.68  1.03   \n",
       "3        3.49                  0.24             2.18             7.80  0.86   \n",
       "4        2.69                  0.39             1.82             4.32  1.04   \n",
       "\n",
       "   od280/od315_of_diluted_wines  proline  target  \n",
       "0                          3.92   1065.0       0  \n",
       "1                          3.40   1050.0       0  \n",
       "2                          3.17   1185.0       0  \n",
       "3                          3.45   1480.0       0  \n",
       "4                          2.93    735.0       0  "
      ]
     },
     "execution_count": 95,
     "metadata": {},
     "output_type": "execute_result"
    }
   ],
   "source": [
    "import pandas as pd\n",
    "\n",
    "df = pd.DataFrame(data=wine.data,columns=wine.feature_names)\n",
    "df['target']=wine.target\n",
    "df.head()"
   ]
  },
  {
   "cell_type": "markdown",
   "metadata": {},
   "source": [
    "Mais l'essentiel est de retrouver nos inputs X et outputs y nécessaires à l'apprentissage."
   ]
  },
  {
   "cell_type": "code",
   "execution_count": 40,
   "metadata": {},
   "outputs": [],
   "source": [
    "X_wine, y_wine = wine.data, wine.target"
   ]
  },
  {
   "cell_type": "markdown",
   "metadata": {},
   "source": [
    "Vous pouvez séparer les données en train et test facilement à l'aide de `sklearn.model_selection.train_test_split` ( voir la [doc](https://scikit-learn.org/stable/modules/generated/sklearn.model_selection.train_test_split.html#sklearn.model_selection.train_test_split))"
   ]
  },
  {
   "cell_type": "code",
   "execution_count": 57,
   "metadata": {},
   "outputs": [
    {
     "data": {
      "text/plain": [
       "array([1, 0, 0, 1, 1, 0, 0, 1, 0, 2, 1, 2, 0, 1, 0, 0, 0, 1, 1, 2, 1, 1,\n",
       "       0, 0, 1, 1, 2, 0, 1, 0, 1, 0, 2, 2, 0, 1, 0, 2, 2, 0, 1, 0, 1, 2,\n",
       "       2, 1, 0, 1, 2, 1, 0, 2, 2, 0, 0, 1, 1, 2, 0, 1, 2, 0, 2, 1, 2, 1,\n",
       "       2, 2, 1, 1, 0, 1, 1, 2, 0, 2, 0, 0, 0, 2, 2, 1, 0, 2, 1, 2, 0, 0,\n",
       "       2, 1, 1, 0, 1, 2, 0, 2, 2, 1, 1, 0, 1, 1, 0, 2, 1, 1, 0, 0, 2, 0,\n",
       "       2, 0, 0, 1, 2, 2, 0, 2, 0, 0, 2, 1, 1, 1])"
      ]
     },
     "execution_count": 57,
     "metadata": {},
     "output_type": "execute_result"
    }
   ],
   "source": [
    "from sklearn.model_selection import train_test_split\n",
    "X_train, X_test, y_train, y_test = train_test_split(X_wine, y_wine, test_size=0.3)\n",
    "y_train"
   ]
  },
  {
   "cell_type": "code",
   "execution_count": 65,
   "metadata": {},
   "outputs": [
    {
     "data": {
      "image/png": "[encoded data removed]",
      "text/plain": [
       "<Figure size 432x288 with 1 Axes>"
      ]
     },
     "metadata": {
      "needs_background": "light"
     },
     "output_type": "display_data"
    }
   ],
   "source": [
    "import matplotlib.pyplot as plt\n",
    "%matplotlib inline\n",
    "\n",
    "plt.hist(y_train, align=\"right\", label=\"train\") \n",
    "plt.hist(y_test, align=\"left\", label=\"test\") \n",
    "plt.title(\"répartition des classes\") \n",
    "plt.show()"
   ]
  },
  {
   "cell_type": "markdown",
   "metadata": {},
   "source": [
    "Il ne faut pas hésiter à recourir à des représentations graphiques quand vous manipulez les données. Ici on voit que la répartition des classes à prédire n'est pas homogène pour les données de test.  \n",
    "On peut y remédier en utilisant le paramètre `stratify`"
   ]
  },
  {
   "cell_type": "code",
   "execution_count": 105,
   "metadata": {},
   "outputs": [
    {
     "data": {
      "image/png": "[encoded data removed]",
      "text/plain": [
       "<Figure size 432x288 with 1 Axes>"
      ]
     },
     "metadata": {
      "needs_background": "light"
     },
     "output_type": "display_data"
    }
   ],
   "source": [
    "X_train, X_test, y_train, y_test = train_test_split(X_wine, y_wine, test_size=0.25, stratify=y_wine)\n",
    "plt.hist(y_train, align=\"right\", label=\"train\") \n",
    "plt.hist(y_test, align=\"left\", label=\"test\") \n",
    "plt.title(\"répartition des classes\") \n",
    "plt.show()"
   ]
  },
  {
   "cell_type": "markdown",
   "metadata": {},
   "source": [
    "## Entraînement\n",
    "\n",
    "L'étape suivante est de choisir un algorithme (un *estimator*), de l'entraîner sur nos données train (avec la fonction `fit()`) puis de faire la prédiction (avec la fonction `predict`).  \n",
    "Quelque soit l'algo choisi vous allez retrouver les fonctions `fit` et `predict`. Ce qui changera ce seront les paramètres à passer au constructeur de la classe de l'algo. Votre travail portera sur le choix de ces paramètres.  \n",
    "Exemple un peu bateau avec une méthode de type SVM."
   ]
  },
  {
   "cell_type": "code",
   "execution_count": 121,
   "metadata": {},
   "outputs": [
    {
     "data": {
      "text/plain": [
       "SVC(C=1, kernel='linear')"
      ]
     },
     "execution_count": 121,
     "metadata": {},
     "output_type": "execute_result"
    }
   ],
   "source": [
    "from sklearn.svm import SVC\n",
    "clf = SVC(C=1, kernel=\"linear\")\n",
    "clf.fit(X_train, y_train)"
   ]
  },
  {
   "cell_type": "code",
   "execution_count": 122,
   "metadata": {},
   "outputs": [
    {
     "data": {
      "text/plain": [
       "array([0, 1, 2, 2, 2, 1, 1, 0, 2, 2, 1, 1, 2, 0, 1, 1, 0, 2, 1, 2, 2, 2,\n",
       "       1, 0, 0, 1, 0, 1, 2, 0, 0, 2, 1, 0, 0, 1, 0, 1, 1, 0, 1, 0, 2, 0,\n",
       "       2])"
      ]
     },
     "execution_count": 122,
     "metadata": {},
     "output_type": "execute_result"
    }
   ],
   "source": [
    "clf.predict(X_test)"
   ]
  },
  {
   "cell_type": "markdown",
   "metadata": {},
   "source": [
    "## Évaluation\n",
    "\n",
    "On fait l'évaluation en confrontant les prédictions sur les X_test et les y_test. La fonction `score` nous donne l'*accuracy* moyenne du modèle."
   ]
  },
  {
   "cell_type": "code",
   "execution_count": 123,
   "metadata": {},
   "outputs": [
    {
     "data": {
      "text/plain": [
       "0.9555555555555556"
      ]
     },
     "execution_count": 123,
     "metadata": {},
     "output_type": "execute_result"
    }
   ],
   "source": [
    "clf.score(X_test, y_test)"
   ]
  },
  {
   "cell_type": "markdown",
   "metadata": {},
   "source": [
    "Pour la classification il existe une classe bien pratique : `sklearn.metrics.classification_report`"
   ]
  },
  {
   "cell_type": "code",
   "execution_count": 124,
   "metadata": {},
   "outputs": [
    {
     "name": "stdout",
     "output_type": "stream",
     "text": [
      "              precision    recall  f1-score   support\n",
      "\n",
      "           0       1.00      1.00      1.00        15\n",
      "           1       1.00      0.89      0.94        18\n",
      "           2       0.86      1.00      0.92        12\n",
      "\n",
      "    accuracy                           0.96        45\n",
      "   macro avg       0.95      0.96      0.95        45\n",
      "weighted avg       0.96      0.96      0.96        45\n",
      "\n"
     ]
    }
   ],
   "source": [
    "from sklearn.metrics import classification_report\n",
    "\n",
    "y_pred = clf.predict(X_test)\n",
    "print(classification_report(y_test, y_pred))"
   ]
  },
  {
   "cell_type": "markdown",
   "metadata": {},
   "source": [
    "### ✍️  Exo ✍️"
   ]
  },
  {
   "cell_type": "markdown",
   "metadata": {},
   "source": [
    "1. Essayez un autre algo de classification (linear SVM par exemple) et comparez les résultats.\n",
    "2. Sur ce même algo, refaites une partition train/test et comparez l'évaluation avec les résultats précédents. "
   ]
  },
  {
   "cell_type": "markdown",
   "metadata": {},
   "source": [
    "Pour améliorer la robustesse de l'évaluation on va utiliser la cross validation. `scikit-learn` a des classes pour ça. "
   ]
  },
  {
   "cell_type": "code",
   "execution_count": 125,
   "metadata": {},
   "outputs": [
    {
     "name": "stdout",
     "output_type": "stream",
     "text": [
      "{'fit_time': array([0.0612123 , 0.05283165, 0.06050134, 0.05603337, 0.04929996]), 'score_time': array([0.00044656, 0.00036573, 0.0002799 , 0.00033069, 0.00024843]), 'test_score': array([0.88888889, 0.94444444, 0.97222222, 1.        , 1.        ])}\n",
      "[0.88888889 0.94444444 0.97222222 1.         1.        ]\n"
     ]
    }
   ],
   "source": [
    "from sklearn.model_selection import cross_validate, cross_val_score\n",
    "print(cross_validate(SVC(C=1, kernel=\"linear\"), X_wine, y_wine)) # infos d'accuracy mais aussi de temps\n",
    "print(cross_val_score(SVC(C=1, kernel=\"linear\"), X_wine, y_wine)) # uniquement accuracy"
   ]
  },
  {
   "cell_type": "markdown",
   "metadata": {},
   "source": [
    "## Optimisation des hyperparamètres"
   ]
  },
  {
   "cell_type": "markdown",
   "metadata": {},
   "source": [
    "L'optimisation des hyperparamètres est la dernière étape. Ici encore `scikitlearn` nous permet de le faire de manière simple et efficace. Nous utiliserons `sklearn.model_selection.GridSearchCV` qui fait une recherche exhaustive sur tous les paramètres donnés au constructeur. Cette classe utilise aussi la cross validation."
   ]
  },
  {
   "cell_type": "code",
   "execution_count": 126,
   "metadata": {},
   "outputs": [
    {
     "data": {
      "text/plain": [
       "{'mean_fit_time': array([0.00238857, 0.04508266, 0.00092287, 0.05651126, 0.00086303,\n",
       "        0.05200019, 0.00080914, 0.12059216, 0.00093904, 0.11793842,\n",
       "        0.00149984, 0.11815362]),\n",
       " 'std_fit_time': array([7.30071506e-04, 1.62103344e-02, 2.74984180e-05, 2.12206049e-02,\n",
       "        2.22915124e-05, 4.64263528e-03, 1.94227897e-05, 3.33829484e-02,\n",
       "        5.69936310e-05, 3.26098565e-02, 1.76022123e-04, 3.33279335e-02]),\n",
       " 'mean_score_time': array([0.00068145, 0.00039501, 0.00031018, 0.00026131, 0.00030513,\n",
       "        0.00026674, 0.00030069, 0.00034618, 0.00030479, 0.00031285,\n",
       "        0.0002902 , 0.00027981]),\n",
       " 'std_score_time': array([1.67366270e-04, 2.75578876e-05, 3.53631901e-06, 1.01287217e-05,\n",
       "        2.47496400e-06, 4.19571722e-05, 7.60760773e-06, 3.78546842e-05,\n",
       "        1.24787473e-05, 2.99836934e-05, 9.67920706e-06, 2.39582084e-05]),\n",
       " 'param_C': masked_array(data=[0.1, 0.1, 0.5, 0.5, 1, 1, 10, 10, 100, 100, 1000, 1000],\n",
       "              mask=[False, False, False, False, False, False, False, False,\n",
       "                    False, False, False, False],\n",
       "        fill_value='?',\n",
       "             dtype=object),\n",
       " 'param_kernel': masked_array(data=['rbf', 'linear', 'rbf', 'linear', 'rbf', 'linear',\n",
       "                    'rbf', 'linear', 'rbf', 'linear', 'rbf', 'linear'],\n",
       "              mask=[False, False, False, False, False, False, False, False,\n",
       "                    False, False, False, False],\n",
       "        fill_value='?',\n",
       "             dtype=object),\n",
       " 'params': [{'C': 0.1, 'kernel': 'rbf'},\n",
       "  {'C': 0.1, 'kernel': 'linear'},\n",
       "  {'C': 0.5, 'kernel': 'rbf'},\n",
       "  {'C': 0.5, 'kernel': 'linear'},\n",
       "  {'C': 1, 'kernel': 'rbf'},\n",
       "  {'C': 1, 'kernel': 'linear'},\n",
       "  {'C': 10, 'kernel': 'rbf'},\n",
       "  {'C': 10, 'kernel': 'linear'},\n",
       "  {'C': 100, 'kernel': 'rbf'},\n",
       "  {'C': 100, 'kernel': 'linear'},\n",
       "  {'C': 1000, 'kernel': 'rbf'},\n",
       "  {'C': 1000, 'kernel': 'linear'}],\n",
       " 'split0_test_score': array([0.66666667, 0.91666667, 0.61111111, 0.94444444, 0.63888889,\n",
       "        0.88888889, 0.75      , 0.88888889, 0.75      , 0.88888889,\n",
       "        0.83333333, 0.88888889]),\n",
       " 'split1_test_score': array([0.61111111, 0.91666667, 0.66666667, 0.94444444, 0.61111111,\n",
       "        0.94444444, 0.66666667, 0.97222222, 0.69444444, 0.97222222,\n",
       "        0.86111111, 0.97222222]),\n",
       " 'split2_test_score': array([0.69444444, 0.97222222, 0.63888889, 0.94444444, 0.63888889,\n",
       "        0.97222222, 0.66666667, 0.94444444, 0.69444444, 0.94444444,\n",
       "        0.94444444, 0.94444444]),\n",
       " 'split3_test_score': array([0.65714286, 1.        , 0.65714286, 1.        , 0.68571429,\n",
       "        1.        , 0.71428571, 1.        , 0.74285714, 1.        ,\n",
       "        0.91428571, 1.        ]),\n",
       " 'split4_test_score': array([0.74285714, 1.        , 0.74285714, 1.        , 0.74285714,\n",
       "        1.        , 0.8       , 1.        , 0.82857143, 1.        ,\n",
       "        0.91428571, 1.        ]),\n",
       " 'mean_test_score': array([0.67444444, 0.96111111, 0.66333333, 0.96666667, 0.66349206,\n",
       "        0.96111111, 0.71952381, 0.96111111, 0.74206349, 0.96111111,\n",
       "        0.89349206, 0.96111111]),\n",
       " 'std_test_score': array([0.043477  , 0.03767961, 0.04404126, 0.02721655, 0.04636171,\n",
       "        0.04157397, 0.0510302 , 0.04157397, 0.04915768, 0.04157397,\n",
       "        0.04031996, 0.04157397]),\n",
       " 'rank_test_score': array([10,  2, 12,  1, 11,  2,  9,  2,  8,  2,  7,  2], dtype=int32)}"
      ]
     },
     "execution_count": 126,
     "metadata": {},
     "output_type": "execute_result"
    }
   ],
   "source": [
    "from sklearn.model_selection import GridSearchCV\n",
    "\n",
    "param_grid =  {'C': [0.1, 0.5, 1, 10, 100, 1000], 'kernel':['rbf','linear']}\n",
    "grid = GridSearchCV(SVC(), param_grid, cv = 5, scoring = 'accuracy')\n",
    "estimator = grid.fit(X_wine, y_wine)\n",
    "estimator.cv_results_"
   ]
  },
  {
   "cell_type": "code",
   "execution_count": 129,
   "metadata": {},
   "outputs": [
    {
     "data": {
      "text/html": [
       "<div>\n",
       "<style scoped>\n",
       "    .dataframe tbody tr th:only-of-type {\n",
       "        vertical-align: middle;\n",
       "    }\n",
       "\n",
       "    .dataframe tbody tr th {\n",
       "        vertical-align: top;\n",
       "    }\n",
       "\n",
       "    .dataframe thead th {\n",
       "        text-align: right;\n",
       "    }\n",
       "</style>\n",
       "<table border=\"1\" class=\"dataframe\">\n",
       "  <thead>\n",
       "    <tr style=\"text-align: right;\">\n",
       "      <th></th>\n",
       "      <th>mean_fit_time</th>\n",
       "      <th>std_fit_time</th>\n",
       "      <th>mean_score_time</th>\n",
       "      <th>std_score_time</th>\n",
       "      <th>param_C</th>\n",
       "      <th>param_kernel</th>\n",
       "      <th>params</th>\n",
       "      <th>split0_test_score</th>\n",
       "      <th>split1_test_score</th>\n",
       "      <th>split2_test_score</th>\n",
       "      <th>split3_test_score</th>\n",
       "      <th>split4_test_score</th>\n",
       "      <th>mean_test_score</th>\n",
       "      <th>std_test_score</th>\n",
       "      <th>rank_test_score</th>\n",
       "    </tr>\n",
       "  </thead>\n",
       "  <tbody>\n",
       "    <tr>\n",
       "      <th>3</th>\n",
       "      <td>0.056511</td>\n",
       "      <td>0.021221</td>\n",
       "      <td>0.000261</td>\n",
       "      <td>0.000010</td>\n",
       "      <td>0.5</td>\n",
       "      <td>linear</td>\n",
       "      <td>{'C': 0.5, 'kernel': 'linear'}</td>\n",
       "      <td>0.944444</td>\n",
       "      <td>0.944444</td>\n",
       "      <td>0.944444</td>\n",
       "      <td>1.000000</td>\n",
       "      <td>1.000000</td>\n",
       "      <td>0.966667</td>\n",
       "      <td>0.027217</td>\n",
       "      <td>1</td>\n",
       "    </tr>\n",
       "    <tr>\n",
       "      <th>1</th>\n",
       "      <td>0.045083</td>\n",
       "      <td>0.016210</td>\n",
       "      <td>0.000395</td>\n",
       "      <td>0.000028</td>\n",
       "      <td>0.1</td>\n",
       "      <td>linear</td>\n",
       "      <td>{'C': 0.1, 'kernel': 'linear'}</td>\n",
       "      <td>0.916667</td>\n",
       "      <td>0.916667</td>\n",
       "      <td>0.972222</td>\n",
       "      <td>1.000000</td>\n",
       "      <td>1.000000</td>\n",
       "      <td>0.961111</td>\n",
       "      <td>0.037680</td>\n",
       "      <td>2</td>\n",
       "    </tr>\n",
       "    <tr>\n",
       "      <th>5</th>\n",
       "      <td>0.052000</td>\n",
       "      <td>0.004643</td>\n",
       "      <td>0.000267</td>\n",
       "      <td>0.000042</td>\n",
       "      <td>1</td>\n",
       "      <td>linear</td>\n",
       "      <td>{'C': 1, 'kernel': 'linear'}</td>\n",
       "      <td>0.888889</td>\n",
       "      <td>0.944444</td>\n",
       "      <td>0.972222</td>\n",
       "      <td>1.000000</td>\n",
       "      <td>1.000000</td>\n",
       "      <td>0.961111</td>\n",
       "      <td>0.041574</td>\n",
       "      <td>2</td>\n",
       "    </tr>\n",
       "    <tr>\n",
       "      <th>7</th>\n",
       "      <td>0.120592</td>\n",
       "      <td>0.033383</td>\n",
       "      <td>0.000346</td>\n",
       "      <td>0.000038</td>\n",
       "      <td>10</td>\n",
       "      <td>linear</td>\n",
       "      <td>{'C': 10, 'kernel': 'linear'}</td>\n",
       "      <td>0.888889</td>\n",
       "      <td>0.972222</td>\n",
       "      <td>0.944444</td>\n",
       "      <td>1.000000</td>\n",
       "      <td>1.000000</td>\n",
       "      <td>0.961111</td>\n",
       "      <td>0.041574</td>\n",
       "      <td>2</td>\n",
       "    </tr>\n",
       "    <tr>\n",
       "      <th>9</th>\n",
       "      <td>0.117938</td>\n",
       "      <td>0.032610</td>\n",
       "      <td>0.000313</td>\n",
       "      <td>0.000030</td>\n",
       "      <td>100</td>\n",
       "      <td>linear</td>\n",
       "      <td>{'C': 100, 'kernel': 'linear'}</td>\n",
       "      <td>0.888889</td>\n",
       "      <td>0.972222</td>\n",
       "      <td>0.944444</td>\n",
       "      <td>1.000000</td>\n",
       "      <td>1.000000</td>\n",
       "      <td>0.961111</td>\n",
       "      <td>0.041574</td>\n",
       "      <td>2</td>\n",
       "    </tr>\n",
       "    <tr>\n",
       "      <th>11</th>\n",
       "      <td>0.118154</td>\n",
       "      <td>0.033328</td>\n",
       "      <td>0.000280</td>\n",
       "      <td>0.000024</td>\n",
       "      <td>1000</td>\n",
       "      <td>linear</td>\n",
       "      <td>{'C': 1000, 'kernel': 'linear'}</td>\n",
       "      <td>0.888889</td>\n",
       "      <td>0.972222</td>\n",
       "      <td>0.944444</td>\n",
       "      <td>1.000000</td>\n",
       "      <td>1.000000</td>\n",
       "      <td>0.961111</td>\n",
       "      <td>0.041574</td>\n",
       "      <td>2</td>\n",
       "    </tr>\n",
       "    <tr>\n",
       "      <th>10</th>\n",
       "      <td>0.001500</td>\n",
       "      <td>0.000176</td>\n",
       "      <td>0.000290</td>\n",
       "      <td>0.000010</td>\n",
       "      <td>1000</td>\n",
       "      <td>rbf</td>\n",
       "      <td>{'C': 1000, 'kernel': 'rbf'}</td>\n",
       "      <td>0.833333</td>\n",
       "      <td>0.861111</td>\n",
       "      <td>0.944444</td>\n",
       "      <td>0.914286</td>\n",
       "      <td>0.914286</td>\n",
       "      <td>0.893492</td>\n",
       "      <td>0.040320</td>\n",
       "      <td>7</td>\n",
       "    </tr>\n",
       "    <tr>\n",
       "      <th>8</th>\n",
       "      <td>0.000939</td>\n",
       "      <td>0.000057</td>\n",
       "      <td>0.000305</td>\n",
       "      <td>0.000012</td>\n",
       "      <td>100</td>\n",
       "      <td>rbf</td>\n",
       "      <td>{'C': 100, 'kernel': 'rbf'}</td>\n",
       "      <td>0.750000</td>\n",
       "      <td>0.694444</td>\n",
       "      <td>0.694444</td>\n",
       "      <td>0.742857</td>\n",
       "      <td>0.828571</td>\n",
       "      <td>0.742063</td>\n",
       "      <td>0.049158</td>\n",
       "      <td>8</td>\n",
       "    </tr>\n",
       "    <tr>\n",
       "      <th>6</th>\n",
       "      <td>0.000809</td>\n",
       "      <td>0.000019</td>\n",
       "      <td>0.000301</td>\n",
       "      <td>0.000008</td>\n",
       "      <td>10</td>\n",
       "      <td>rbf</td>\n",
       "      <td>{'C': 10, 'kernel': 'rbf'}</td>\n",
       "      <td>0.750000</td>\n",
       "      <td>0.666667</td>\n",
       "      <td>0.666667</td>\n",
       "      <td>0.714286</td>\n",
       "      <td>0.800000</td>\n",
       "      <td>0.719524</td>\n",
       "      <td>0.051030</td>\n",
       "      <td>9</td>\n",
       "    </tr>\n",
       "    <tr>\n",
       "      <th>0</th>\n",
       "      <td>0.002389</td>\n",
       "      <td>0.000730</td>\n",
       "      <td>0.000681</td>\n",
       "      <td>0.000167</td>\n",
       "      <td>0.1</td>\n",
       "      <td>rbf</td>\n",
       "      <td>{'C': 0.1, 'kernel': 'rbf'}</td>\n",
       "      <td>0.666667</td>\n",
       "      <td>0.611111</td>\n",
       "      <td>0.694444</td>\n",
       "      <td>0.657143</td>\n",
       "      <td>0.742857</td>\n",
       "      <td>0.674444</td>\n",
       "      <td>0.043477</td>\n",
       "      <td>10</td>\n",
       "    </tr>\n",
       "    <tr>\n",
       "      <th>4</th>\n",
       "      <td>0.000863</td>\n",
       "      <td>0.000022</td>\n",
       "      <td>0.000305</td>\n",
       "      <td>0.000002</td>\n",
       "      <td>1</td>\n",
       "      <td>rbf</td>\n",
       "      <td>{'C': 1, 'kernel': 'rbf'}</td>\n",
       "      <td>0.638889</td>\n",
       "      <td>0.611111</td>\n",
       "      <td>0.638889</td>\n",
       "      <td>0.685714</td>\n",
       "      <td>0.742857</td>\n",
       "      <td>0.663492</td>\n",
       "      <td>0.046362</td>\n",
       "      <td>11</td>\n",
       "    </tr>\n",
       "    <tr>\n",
       "      <th>2</th>\n",
       "      <td>0.000923</td>\n",
       "      <td>0.000027</td>\n",
       "      <td>0.000310</td>\n",
       "      <td>0.000004</td>\n",
       "      <td>0.5</td>\n",
       "      <td>rbf</td>\n",
       "      <td>{'C': 0.5, 'kernel': 'rbf'}</td>\n",
       "      <td>0.611111</td>\n",
       "      <td>0.666667</td>\n",
       "      <td>0.638889</td>\n",
       "      <td>0.657143</td>\n",
       "      <td>0.742857</td>\n",
       "      <td>0.663333</td>\n",
       "      <td>0.044041</td>\n",
       "      <td>12</td>\n",
       "    </tr>\n",
       "  </tbody>\n",
       "</table>\n",
       "</div>"
      ],
      "text/plain": [
       "    mean_fit_time  std_fit_time  mean_score_time  std_score_time param_C  \\\n",
       "3        0.056511      0.021221         0.000261        0.000010     0.5   \n",
       "1        0.045083      0.016210         0.000395        0.000028     0.1   \n",
       "5        0.052000      0.004643         0.000267        0.000042       1   \n",
       "7        0.120592      0.033383         0.000346        0.000038      10   \n",
       "9        0.117938      0.032610         0.000313        0.000030     100   \n",
       "11       0.118154      0.033328         0.000280        0.000024    1000   \n",
       "10       0.001500      0.000176         0.000290        0.000010    1000   \n",
       "8        0.000939      0.000057         0.000305        0.000012     100   \n",
       "6        0.000809      0.000019         0.000301        0.000008      10   \n",
       "0        0.002389      0.000730         0.000681        0.000167     0.1   \n",
       "4        0.000863      0.000022         0.000305        0.000002       1   \n",
       "2        0.000923      0.000027         0.000310        0.000004     0.5   \n",
       "\n",
       "   param_kernel                           params  split0_test_score  \\\n",
       "3        linear   {'C': 0.5, 'kernel': 'linear'}           0.944444   \n",
       "1        linear   {'C': 0.1, 'kernel': 'linear'}           0.916667   \n",
       "5        linear     {'C': 1, 'kernel': 'linear'}           0.888889   \n",
       "7        linear    {'C': 10, 'kernel': 'linear'}           0.888889   \n",
       "9        linear   {'C': 100, 'kernel': 'linear'}           0.888889   \n",
       "11       linear  {'C': 1000, 'kernel': 'linear'}           0.888889   \n",
       "10          rbf     {'C': 1000, 'kernel': 'rbf'}           0.833333   \n",
       "8           rbf      {'C': 100, 'kernel': 'rbf'}           0.750000   \n",
       "6           rbf       {'C': 10, 'kernel': 'rbf'}           0.750000   \n",
       "0           rbf      {'C': 0.1, 'kernel': 'rbf'}           0.666667   \n",
       "4           rbf        {'C': 1, 'kernel': 'rbf'}           0.638889   \n",
       "2           rbf      {'C': 0.5, 'kernel': 'rbf'}           0.611111   \n",
       "\n",
       "    split1_test_score  split2_test_score  split3_test_score  \\\n",
       "3            0.944444           0.944444           1.000000   \n",
       "1            0.916667           0.972222           1.000000   \n",
       "5            0.944444           0.972222           1.000000   \n",
       "7            0.972222           0.944444           1.000000   \n",
       "9            0.972222           0.944444           1.000000   \n",
       "11           0.972222           0.944444           1.000000   \n",
       "10           0.861111           0.944444           0.914286   \n",
       "8            0.694444           0.694444           0.742857   \n",
       "6            0.666667           0.666667           0.714286   \n",
       "0            0.611111           0.694444           0.657143   \n",
       "4            0.611111           0.638889           0.685714   \n",
       "2            0.666667           0.638889           0.657143   \n",
       "\n",
       "    split4_test_score  mean_test_score  std_test_score  rank_test_score  \n",
       "3            1.000000         0.966667        0.027217                1  \n",
       "1            1.000000         0.961111        0.037680                2  \n",
       "5            1.000000         0.961111        0.041574                2  \n",
       "7            1.000000         0.961111        0.041574                2  \n",
       "9            1.000000         0.961111        0.041574                2  \n",
       "11           1.000000         0.961111        0.041574                2  \n",
       "10           0.914286         0.893492        0.040320                7  \n",
       "8            0.828571         0.742063        0.049158                8  \n",
       "6            0.800000         0.719524        0.051030                9  \n",
       "0            0.742857         0.674444        0.043477               10  \n",
       "4            0.742857         0.663492        0.046362               11  \n",
       "2            0.742857         0.663333        0.044041               12  "
      ]
     },
     "execution_count": 129,
     "metadata": {},
     "output_type": "execute_result"
    }
   ],
   "source": [
    "df = pd.DataFrame(estimator.cv_results_)\n",
    "df.sort_values('rank_test_score')"
   ]
  },
  {
   "cell_type": "markdown",
   "metadata": {},
   "source": [
    "# Classification de textes"
   ]
  },
  {
   "cell_type": "markdown",
   "metadata": {},
   "source": [
    "Vous trouverez un exemple de classification proposé par `scikitlearn` ici : https://scikit-learn.org/stable/auto_examples/text/plot_document_classification_20newsgroups.html et de la doc sur les features des documents textuels ici : https://scikit-learn.org/stable/modules/feature_extraction.html#text-feature-extraction"
   ]
  },
  {
   "cell_type": "markdown",
   "metadata": {},
   "source": [
    "La classification avec des techniques non neuronales repose en grande partie sur les features utilisées pour représenter les textes."
   ]
  },
  {
   "cell_type": "code",
   "execution_count": 155,
   "metadata": {},
   "outputs": [],
   "source": [
    "from sklearn.datasets import fetch_20newsgroups\n",
    "\n",
    "categories = [ 'sci.crypt',\n",
    " 'sci.electronics',\n",
    " 'sci.med',\n",
    " 'sci.space']\n",
    "\n",
    "data_train = fetch_20newsgroups(subset='train', categories=categories,\n",
    "                                shuffle=True)\n",
    "\n",
    "data_test = fetch_20newsgroups(subset='test', categories=categories,\n",
    "                               shuffle=True)"
   ]
  },
  {
   "cell_type": "code",
   "execution_count": 158,
   "metadata": {},
   "outputs": [
    {
     "name": "stdout",
     "output_type": "stream",
     "text": [
      "2373\n",
      "1579\n"
     ]
    }
   ],
   "source": [
    "print(len(data_train.data))\n",
    "print(len(data_test.data))"
   ]
  },
  {
   "cell_type": "markdown",
   "metadata": {},
   "source": [
    "Ici on a un jeu de 2373 textes catégorisés pour train. À nous d'en extraire les features désirées. \n",
    "tfidf est un grand classique. Vous pouvez réutiliser votre propre scritp ou la classe de `scikitlearn`\n",
    "\n",
    "Attention aux valeurs par défaut des paramètres. Ici par exemple on passe tout en minuscule et la tokenisation est rudimentaire. Ça fonctionnera mal pour d'autres langues que l'anglais."
   ]
  },
  {
   "cell_type": "code",
   "execution_count": 167,
   "metadata": {},
   "outputs": [],
   "source": [
    "from sklearn.feature_extraction.text import TfidfVectorizer\n",
    "\n",
    "vectorizer = TfidfVectorizer(sublinear_tf=True, max_df=0.5,\n",
    "                                 stop_words='english')\n",
    "X_train = vectorizer.fit_transform(data_train.data) # données de train vectorisées\n",
    "y_train = data_train.target"
   ]
  },
  {
   "cell_type": "code",
   "execution_count": 166,
   "metadata": {},
   "outputs": [],
   "source": [
    "X_test = vectorizer.transform(data_test.data)\n",
    "y_test = data_test.target"
   ]
  },
  {
   "cell_type": "code",
   "execution_count": 165,
   "metadata": {},
   "outputs": [
    {
     "name": "stdout",
     "output_type": "stream",
     "text": [
      "              precision    recall  f1-score   support\n",
      "\n",
      "           0       0.99      0.93      0.96       396\n",
      "           1       0.85      0.96      0.90       393\n",
      "           2       0.94      0.92      0.93       396\n",
      "           3       0.98      0.93      0.96       394\n",
      "\n",
      "    accuracy                           0.94      1579\n",
      "   macro avg       0.94      0.94      0.94      1579\n",
      "weighted avg       0.94      0.94      0.94      1579\n",
      "\n"
     ]
    }
   ],
   "source": [
    "# Pour l'entraînement et l'éval on reprend le code vu auparavant\n",
    "\n",
    "clf = SVC(C=1, kernel=\"linear\")\n",
    "clf.fit(X_train, y_train)\n",
    "y_pred = clf.predict(X_test)\n",
    "print(classification_report(y_test, y_pred))"
   ]
  },
  {
   "cell_type": "markdown",
   "metadata": {},
   "source": [
    "Essayez avec d'autres features. La longueur moyennes des mots, le nombre d'adjectifs, la présence d'entités nommées, …"
   ]
  },
  {
   "cell_type": "markdown",
   "metadata": {},
   "source": [
    "## Et les réseaux de neurones ?\n",
    "\n",
    "`scikitlearn` permet d'utiliser un Multi-layer Perceptron (MLP). Et comme la bibliothèque ne permet pas d'utiliser un GPU pour les calculs, son utilisation est limitée à des jeux de données de taille moyenne.  \n",
    "`scikitlearn` n'est pas fait pour le deep learning. Il existe des bib associées qui permettent de combiner Keras ou pytorch avec `scikitlearn` néanmoins."
   ]
  },
  {
   "cell_type": "markdown",
   "metadata": {},
   "source": [
    "Essayons ensemble en suivant la doc de https://scikit-learn.org/stable/modules/generated/sklearn.neural_network.MLPClassifier.html"
   ]
  }
 ],
 "metadata": {
  "kernelspec": {
   "display_name": "Python 3",
   "language": "python",
   "name": "python3"
  },
  "language_info": {
   "codemirror_mode": {
    "name": "ipython",
    "version": 3
   },
   "file_extension": ".py",
   "mimetype": "text/x-python",
   "name": "python",
   "nbconvert_exporter": "python",
   "pygments_lexer": "ipython3",
   "version": "3.7.4"
  }
 },
 "nbformat": 4,
 "nbformat_minor": 4
}
